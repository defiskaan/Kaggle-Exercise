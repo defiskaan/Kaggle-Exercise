{
 "cells": [
  {
   "cell_type": "markdown",
   "metadata": {},
   "source": [
    "# Import Data"
   ]
  },
  {
   "cell_type": "code",
   "execution_count": 1,
   "metadata": {},
   "outputs": [],
   "source": [
    "import pandas as pd\n",
    "import numpy as np\n",
    "import matplotlib.pyplot as plt\n",
    "import seaborn as sns"
   ]
  },
  {
   "cell_type": "code",
   "execution_count": 2,
   "metadata": {},
   "outputs": [
    {
     "data": {
      "text/html": [
       "<div>\n",
       "<style scoped>\n",
       "    .dataframe tbody tr th:only-of-type {\n",
       "        vertical-align: middle;\n",
       "    }\n",
       "\n",
       "    .dataframe tbody tr th {\n",
       "        vertical-align: top;\n",
       "    }\n",
       "\n",
       "    .dataframe thead th {\n",
       "        text-align: right;\n",
       "    }\n",
       "</style>\n",
       "<table border=\"1\" class=\"dataframe\">\n",
       "  <thead>\n",
       "    <tr style=\"text-align: right;\">\n",
       "      <th></th>\n",
       "      <th>article_id</th>\n",
       "      <th>full_name</th>\n",
       "      <th>sex</th>\n",
       "      <th>birth_year</th>\n",
       "      <th>city</th>\n",
       "      <th>state</th>\n",
       "      <th>country</th>\n",
       "      <th>continent</th>\n",
       "      <th>latitude</th>\n",
       "      <th>longitude</th>\n",
       "      <th>occupation</th>\n",
       "      <th>industry</th>\n",
       "      <th>domain</th>\n",
       "      <th>article_languages</th>\n",
       "      <th>page_views</th>\n",
       "      <th>average_views</th>\n",
       "      <th>historical_popularity_index</th>\n",
       "    </tr>\n",
       "  </thead>\n",
       "  <tbody>\n",
       "    <tr>\n",
       "      <th>0</th>\n",
       "      <td>308</td>\n",
       "      <td>Aristotle</td>\n",
       "      <td>Male</td>\n",
       "      <td>-384</td>\n",
       "      <td>Stageira</td>\n",
       "      <td>NaN</td>\n",
       "      <td>Greece</td>\n",
       "      <td>Europe</td>\n",
       "      <td>40.33333</td>\n",
       "      <td>23.50000</td>\n",
       "      <td>Philosopher</td>\n",
       "      <td>Philosophy</td>\n",
       "      <td>Humanities</td>\n",
       "      <td>152</td>\n",
       "      <td>56355172</td>\n",
       "      <td>370758</td>\n",
       "      <td>31.9938</td>\n",
       "    </tr>\n",
       "    <tr>\n",
       "      <th>1</th>\n",
       "      <td>22954</td>\n",
       "      <td>Plato</td>\n",
       "      <td>Male</td>\n",
       "      <td>-427</td>\n",
       "      <td>Athens</td>\n",
       "      <td>NaN</td>\n",
       "      <td>Greece</td>\n",
       "      <td>Europe</td>\n",
       "      <td>37.96667</td>\n",
       "      <td>23.71667</td>\n",
       "      <td>Philosopher</td>\n",
       "      <td>Philosophy</td>\n",
       "      <td>Humanities</td>\n",
       "      <td>142</td>\n",
       "      <td>46812003</td>\n",
       "      <td>329662</td>\n",
       "      <td>31.9888</td>\n",
       "    </tr>\n",
       "    <tr>\n",
       "      <th>2</th>\n",
       "      <td>1095706</td>\n",
       "      <td>Jesus Christ</td>\n",
       "      <td>Male</td>\n",
       "      <td>-4</td>\n",
       "      <td>Judea</td>\n",
       "      <td>NaN</td>\n",
       "      <td>Israel</td>\n",
       "      <td>Asia</td>\n",
       "      <td>32.50000</td>\n",
       "      <td>34.90000</td>\n",
       "      <td>Religious Figure</td>\n",
       "      <td>Religion</td>\n",
       "      <td>Institutions</td>\n",
       "      <td>214</td>\n",
       "      <td>60299092</td>\n",
       "      <td>281771</td>\n",
       "      <td>31.8981</td>\n",
       "    </tr>\n",
       "    <tr>\n",
       "      <th>3</th>\n",
       "      <td>25664190</td>\n",
       "      <td>Socrates</td>\n",
       "      <td>Male</td>\n",
       "      <td>-469</td>\n",
       "      <td>Athens</td>\n",
       "      <td>NaN</td>\n",
       "      <td>Greece</td>\n",
       "      <td>Europe</td>\n",
       "      <td>37.96667</td>\n",
       "      <td>23.71667</td>\n",
       "      <td>Philosopher</td>\n",
       "      <td>Philosophy</td>\n",
       "      <td>Humanities</td>\n",
       "      <td>137</td>\n",
       "      <td>40307143</td>\n",
       "      <td>294213</td>\n",
       "      <td>31.6521</td>\n",
       "    </tr>\n",
       "    <tr>\n",
       "      <th>4</th>\n",
       "      <td>783</td>\n",
       "      <td>Alexander the Great</td>\n",
       "      <td>Male</td>\n",
       "      <td>-356</td>\n",
       "      <td>Pella</td>\n",
       "      <td>NaN</td>\n",
       "      <td>Greece</td>\n",
       "      <td>Europe</td>\n",
       "      <td>40.80000</td>\n",
       "      <td>22.51667</td>\n",
       "      <td>Military Personnel</td>\n",
       "      <td>Military</td>\n",
       "      <td>Institutions</td>\n",
       "      <td>138</td>\n",
       "      <td>48358148</td>\n",
       "      <td>350421</td>\n",
       "      <td>31.5840</td>\n",
       "    </tr>\n",
       "    <tr>\n",
       "      <th>5</th>\n",
       "      <td>18079</td>\n",
       "      <td>Leonardo da Vinci</td>\n",
       "      <td>Male</td>\n",
       "      <td>1452</td>\n",
       "      <td>Vinci</td>\n",
       "      <td>NaN</td>\n",
       "      <td>Italy</td>\n",
       "      <td>Europe</td>\n",
       "      <td>43.78333</td>\n",
       "      <td>10.91667</td>\n",
       "      <td>Inventor</td>\n",
       "      <td>Invention</td>\n",
       "      <td>Science &amp; Technology</td>\n",
       "      <td>174</td>\n",
       "      <td>88931135</td>\n",
       "      <td>511098</td>\n",
       "      <td>31.4644</td>\n",
       "    </tr>\n",
       "    <tr>\n",
       "      <th>6</th>\n",
       "      <td>5823</td>\n",
       "      <td>Confucius</td>\n",
       "      <td>Male</td>\n",
       "      <td>-551</td>\n",
       "      <td>Qufu</td>\n",
       "      <td>NaN</td>\n",
       "      <td>China</td>\n",
       "      <td>Asia</td>\n",
       "      <td>NaN</td>\n",
       "      <td>NaN</td>\n",
       "      <td>Philosopher</td>\n",
       "      <td>Philosophy</td>\n",
       "      <td>Humanities</td>\n",
       "      <td>192</td>\n",
       "      <td>22363652</td>\n",
       "      <td>116477</td>\n",
       "      <td>31.3705</td>\n",
       "    </tr>\n",
       "  </tbody>\n",
       "</table>\n",
       "</div>"
      ],
      "text/plain": [
       "   article_id            full_name   sex birth_year      city state country  \\\n",
       "0         308            Aristotle  Male       -384  Stageira   NaN  Greece   \n",
       "1       22954                Plato  Male       -427    Athens   NaN  Greece   \n",
       "2     1095706         Jesus Christ  Male         -4     Judea   NaN  Israel   \n",
       "3    25664190             Socrates  Male       -469    Athens   NaN  Greece   \n",
       "4         783  Alexander the Great  Male       -356     Pella   NaN  Greece   \n",
       "5       18079    Leonardo da Vinci  Male       1452     Vinci   NaN   Italy   \n",
       "6        5823            Confucius  Male       -551      Qufu   NaN   China   \n",
       "\n",
       "  continent  latitude  longitude          occupation    industry  \\\n",
       "0    Europe  40.33333   23.50000         Philosopher  Philosophy   \n",
       "1    Europe  37.96667   23.71667         Philosopher  Philosophy   \n",
       "2      Asia  32.50000   34.90000    Religious Figure    Religion   \n",
       "3    Europe  37.96667   23.71667         Philosopher  Philosophy   \n",
       "4    Europe  40.80000   22.51667  Military Personnel    Military   \n",
       "5    Europe  43.78333   10.91667            Inventor   Invention   \n",
       "6      Asia       NaN        NaN         Philosopher  Philosophy   \n",
       "\n",
       "                 domain  article_languages  page_views  average_views  \\\n",
       "0            Humanities                152    56355172         370758   \n",
       "1            Humanities                142    46812003         329662   \n",
       "2          Institutions                214    60299092         281771   \n",
       "3            Humanities                137    40307143         294213   \n",
       "4          Institutions                138    48358148         350421   \n",
       "5  Science & Technology                174    88931135         511098   \n",
       "6            Humanities                192    22363652         116477   \n",
       "\n",
       "   historical_popularity_index  \n",
       "0                      31.9938  \n",
       "1                      31.9888  \n",
       "2                      31.8981  \n",
       "3                      31.6521  \n",
       "4                      31.5840  \n",
       "5                      31.4644  \n",
       "6                      31.3705  "
      ]
     },
     "execution_count": 2,
     "metadata": {},
     "output_type": "execute_result"
    }
   ],
   "source": [
    "df = pd.read_csv('database.csv')\n",
    "df.head(7)"
   ]
  },
  {
   "cell_type": "markdown",
   "metadata": {},
   "source": [
    "# Data Understanding"
   ]
  },
  {
   "cell_type": "code",
   "execution_count": 3,
   "metadata": {},
   "outputs": [
    {
     "name": "stdout",
     "output_type": "stream",
     "text": [
      "<class 'pandas.core.frame.DataFrame'>\n",
      "RangeIndex: 11341 entries, 0 to 11340\n",
      "Data columns (total 17 columns):\n",
      " #   Column                       Non-Null Count  Dtype  \n",
      "---  ------                       --------------  -----  \n",
      " 0   article_id                   11341 non-null  int64  \n",
      " 1   full_name                    11341 non-null  object \n",
      " 2   sex                          11341 non-null  object \n",
      " 3   birth_year                   11341 non-null  object \n",
      " 4   city                         11341 non-null  object \n",
      " 5   state                        2172 non-null   object \n",
      " 6   country                      11308 non-null  object \n",
      " 7   continent                    11311 non-null  object \n",
      " 8   latitude                     10294 non-null  float64\n",
      " 9   longitude                    10294 non-null  float64\n",
      " 10  occupation                   11341 non-null  object \n",
      " 11  industry                     11341 non-null  object \n",
      " 12  domain                       11341 non-null  object \n",
      " 13  article_languages            11341 non-null  int64  \n",
      " 14  page_views                   11341 non-null  int64  \n",
      " 15  average_views                11341 non-null  int64  \n",
      " 16  historical_popularity_index  11341 non-null  float64\n",
      "dtypes: float64(3), int64(4), object(10)\n",
      "memory usage: 1.5+ MB\n"
     ]
    }
   ],
   "source": [
    "df.info()"
   ]
  },
  {
   "cell_type": "code",
   "execution_count": 4,
   "metadata": {},
   "outputs": [
    {
     "name": "stdout",
     "output_type": "stream",
     "text": [
      "Missing Value in Each Column:\n",
      "article_id                        0\n",
      "full_name                         0\n",
      "sex                               0\n",
      "birth_year                        0\n",
      "city                              0\n",
      "state                          9169\n",
      "country                          33\n",
      "continent                        30\n",
      "latitude                       1047\n",
      "longitude                      1047\n",
      "occupation                        0\n",
      "industry                          0\n",
      "domain                            0\n",
      "article_languages                 0\n",
      "page_views                        0\n",
      "average_views                     0\n",
      "historical_popularity_index       0\n",
      "dtype: int64\n"
     ]
    }
   ],
   "source": [
    "print('Missing Value in Each Column:')\n",
    "print(df.isna().sum())"
   ]
  },
  {
   "cell_type": "code",
   "execution_count": 5,
   "metadata": {},
   "outputs": [
    {
     "data": {
      "text/html": [
       "<div>\n",
       "<style scoped>\n",
       "    .dataframe tbody tr th:only-of-type {\n",
       "        vertical-align: middle;\n",
       "    }\n",
       "\n",
       "    .dataframe tbody tr th {\n",
       "        vertical-align: top;\n",
       "    }\n",
       "\n",
       "    .dataframe thead th {\n",
       "        text-align: right;\n",
       "    }\n",
       "</style>\n",
       "<table border=\"1\" class=\"dataframe\">\n",
       "  <thead>\n",
       "    <tr style=\"text-align: right;\">\n",
       "      <th></th>\n",
       "      <th>article_id</th>\n",
       "      <th>latitude</th>\n",
       "      <th>longitude</th>\n",
       "      <th>article_languages</th>\n",
       "      <th>page_views</th>\n",
       "      <th>average_views</th>\n",
       "      <th>historical_popularity_index</th>\n",
       "    </tr>\n",
       "  </thead>\n",
       "  <tbody>\n",
       "    <tr>\n",
       "      <th>count</th>\n",
       "      <td>1.134100e+04</td>\n",
       "      <td>10294.000000</td>\n",
       "      <td>10294.000000</td>\n",
       "      <td>11341.000000</td>\n",
       "      <td>1.134100e+04</td>\n",
       "      <td>1.134100e+04</td>\n",
       "      <td>11341.000000</td>\n",
       "    </tr>\n",
       "    <tr>\n",
       "      <th>mean</th>\n",
       "      <td>2.282303e+06</td>\n",
       "      <td>39.931860</td>\n",
       "      <td>-7.039516</td>\n",
       "      <td>40.768892</td>\n",
       "      <td>4.200961e+06</td>\n",
       "      <td>8.941360e+04</td>\n",
       "      <td>22.308241</td>\n",
       "    </tr>\n",
       "    <tr>\n",
       "      <th>std</th>\n",
       "      <td>5.745971e+06</td>\n",
       "      <td>18.688257</td>\n",
       "      <td>55.118931</td>\n",
       "      <td>17.467776</td>\n",
       "      <td>7.677474e+06</td>\n",
       "      <td>1.214613e+05</td>\n",
       "      <td>3.359037</td>\n",
       "    </tr>\n",
       "    <tr>\n",
       "      <th>min</th>\n",
       "      <td>3.070000e+02</td>\n",
       "      <td>-51.633330</td>\n",
       "      <td>-175.200560</td>\n",
       "      <td>26.000000</td>\n",
       "      <td>1.965000e+03</td>\n",
       "      <td>4.900000e+01</td>\n",
       "      <td>9.879400</td>\n",
       "    </tr>\n",
       "    <tr>\n",
       "      <th>25%</th>\n",
       "      <td>7.056000e+04</td>\n",
       "      <td>37.916670</td>\n",
       "      <td>-56.072705</td>\n",
       "      <td>29.000000</td>\n",
       "      <td>6.286420e+05</td>\n",
       "      <td>1.842000e+04</td>\n",
       "      <td>20.432000</td>\n",
       "    </tr>\n",
       "    <tr>\n",
       "      <th>50%</th>\n",
       "      <td>2.754430e+05</td>\n",
       "      <td>43.716670</td>\n",
       "      <td>4.483330</td>\n",
       "      <td>35.000000</td>\n",
       "      <td>1.602331e+06</td>\n",
       "      <td>4.384400e+04</td>\n",
       "      <td>23.028000</td>\n",
       "    </tr>\n",
       "    <tr>\n",
       "      <th>75%</th>\n",
       "      <td>9.668110e+05</td>\n",
       "      <td>50.936390</td>\n",
       "      <td>17.210003</td>\n",
       "      <td>46.000000</td>\n",
       "      <td>4.484694e+06</td>\n",
       "      <td>1.072280e+05</td>\n",
       "      <td>24.589000</td>\n",
       "    </tr>\n",
       "    <tr>\n",
       "      <th>max</th>\n",
       "      <td>3.870783e+07</td>\n",
       "      <td>70.073330</td>\n",
       "      <td>178.017780</td>\n",
       "      <td>214.000000</td>\n",
       "      <td>1.452506e+08</td>\n",
       "      <td>1.515232e+06</td>\n",
       "      <td>31.993800</td>\n",
       "    </tr>\n",
       "  </tbody>\n",
       "</table>\n",
       "</div>"
      ],
      "text/plain": [
       "         article_id      latitude     longitude  article_languages  \\\n",
       "count  1.134100e+04  10294.000000  10294.000000       11341.000000   \n",
       "mean   2.282303e+06     39.931860     -7.039516          40.768892   \n",
       "std    5.745971e+06     18.688257     55.118931          17.467776   \n",
       "min    3.070000e+02    -51.633330   -175.200560          26.000000   \n",
       "25%    7.056000e+04     37.916670    -56.072705          29.000000   \n",
       "50%    2.754430e+05     43.716670      4.483330          35.000000   \n",
       "75%    9.668110e+05     50.936390     17.210003          46.000000   \n",
       "max    3.870783e+07     70.073330    178.017780         214.000000   \n",
       "\n",
       "         page_views  average_views  historical_popularity_index  \n",
       "count  1.134100e+04   1.134100e+04                 11341.000000  \n",
       "mean   4.200961e+06   8.941360e+04                    22.308241  \n",
       "std    7.677474e+06   1.214613e+05                     3.359037  \n",
       "min    1.965000e+03   4.900000e+01                     9.879400  \n",
       "25%    6.286420e+05   1.842000e+04                    20.432000  \n",
       "50%    1.602331e+06   4.384400e+04                    23.028000  \n",
       "75%    4.484694e+06   1.072280e+05                    24.589000  \n",
       "max    1.452506e+08   1.515232e+06                    31.993800  "
      ]
     },
     "execution_count": 5,
     "metadata": {},
     "output_type": "execute_result"
    }
   ],
   "source": [
    "df.describe()"
   ]
  },
  {
   "cell_type": "markdown",
   "metadata": {},
   "source": [
    "# Quick Feature Selection"
   ]
  },
  {
   "cell_type": "code",
   "execution_count": 6,
   "metadata": {},
   "outputs": [],
   "source": [
    "df.drop(columns=['article_id','full_name','state','latitude','longitude','city'],inplace=True)\n",
    "df = df.dropna().reset_index(drop=True)"
   ]
  },
  {
   "cell_type": "code",
   "execution_count": 7,
   "metadata": {},
   "outputs": [
    {
     "name": "stdout",
     "output_type": "stream",
     "text": [
      "<class 'pandas.core.frame.DataFrame'>\n",
      "RangeIndex: 11278 entries, 0 to 11277\n",
      "Data columns (total 11 columns):\n",
      " #   Column                       Non-Null Count  Dtype  \n",
      "---  ------                       --------------  -----  \n",
      " 0   sex                          11278 non-null  object \n",
      " 1   birth_year                   11278 non-null  object \n",
      " 2   country                      11278 non-null  object \n",
      " 3   continent                    11278 non-null  object \n",
      " 4   occupation                   11278 non-null  object \n",
      " 5   industry                     11278 non-null  object \n",
      " 6   domain                       11278 non-null  object \n",
      " 7   article_languages            11278 non-null  int64  \n",
      " 8   page_views                   11278 non-null  int64  \n",
      " 9   average_views                11278 non-null  int64  \n",
      " 10  historical_popularity_index  11278 non-null  float64\n",
      "dtypes: float64(1), int64(3), object(7)\n",
      "memory usage: 969.3+ KB\n"
     ]
    }
   ],
   "source": [
    "df.info()"
   ]
  },
  {
   "cell_type": "code",
   "execution_count": 8,
   "metadata": {},
   "outputs": [
    {
     "data": {
      "text/html": [
       "<div>\n",
       "<style scoped>\n",
       "    .dataframe tbody tr th:only-of-type {\n",
       "        vertical-align: middle;\n",
       "    }\n",
       "\n",
       "    .dataframe tbody tr th {\n",
       "        vertical-align: top;\n",
       "    }\n",
       "\n",
       "    .dataframe thead th {\n",
       "        text-align: right;\n",
       "    }\n",
       "</style>\n",
       "<table border=\"1\" class=\"dataframe\">\n",
       "  <thead>\n",
       "    <tr style=\"text-align: right;\">\n",
       "      <th></th>\n",
       "      <th>sex</th>\n",
       "      <th>birth_year</th>\n",
       "      <th>country</th>\n",
       "      <th>continent</th>\n",
       "      <th>occupation</th>\n",
       "      <th>industry</th>\n",
       "      <th>domain</th>\n",
       "      <th>article_languages</th>\n",
       "      <th>page_views</th>\n",
       "      <th>average_views</th>\n",
       "      <th>historical_popularity_index</th>\n",
       "    </tr>\n",
       "  </thead>\n",
       "  <tbody>\n",
       "    <tr>\n",
       "      <th>0</th>\n",
       "      <td>Male</td>\n",
       "      <td>-384</td>\n",
       "      <td>Greece</td>\n",
       "      <td>Europe</td>\n",
       "      <td>Philosopher</td>\n",
       "      <td>Philosophy</td>\n",
       "      <td>Humanities</td>\n",
       "      <td>152</td>\n",
       "      <td>56355172</td>\n",
       "      <td>370758</td>\n",
       "      <td>31.9938</td>\n",
       "    </tr>\n",
       "    <tr>\n",
       "      <th>1</th>\n",
       "      <td>Male</td>\n",
       "      <td>-427</td>\n",
       "      <td>Greece</td>\n",
       "      <td>Europe</td>\n",
       "      <td>Philosopher</td>\n",
       "      <td>Philosophy</td>\n",
       "      <td>Humanities</td>\n",
       "      <td>142</td>\n",
       "      <td>46812003</td>\n",
       "      <td>329662</td>\n",
       "      <td>31.9888</td>\n",
       "    </tr>\n",
       "    <tr>\n",
       "      <th>2</th>\n",
       "      <td>Male</td>\n",
       "      <td>-4</td>\n",
       "      <td>Israel</td>\n",
       "      <td>Asia</td>\n",
       "      <td>Religious Figure</td>\n",
       "      <td>Religion</td>\n",
       "      <td>Institutions</td>\n",
       "      <td>214</td>\n",
       "      <td>60299092</td>\n",
       "      <td>281771</td>\n",
       "      <td>31.8981</td>\n",
       "    </tr>\n",
       "    <tr>\n",
       "      <th>3</th>\n",
       "      <td>Male</td>\n",
       "      <td>-469</td>\n",
       "      <td>Greece</td>\n",
       "      <td>Europe</td>\n",
       "      <td>Philosopher</td>\n",
       "      <td>Philosophy</td>\n",
       "      <td>Humanities</td>\n",
       "      <td>137</td>\n",
       "      <td>40307143</td>\n",
       "      <td>294213</td>\n",
       "      <td>31.6521</td>\n",
       "    </tr>\n",
       "    <tr>\n",
       "      <th>4</th>\n",
       "      <td>Male</td>\n",
       "      <td>-356</td>\n",
       "      <td>Greece</td>\n",
       "      <td>Europe</td>\n",
       "      <td>Military Personnel</td>\n",
       "      <td>Military</td>\n",
       "      <td>Institutions</td>\n",
       "      <td>138</td>\n",
       "      <td>48358148</td>\n",
       "      <td>350421</td>\n",
       "      <td>31.5840</td>\n",
       "    </tr>\n",
       "  </tbody>\n",
       "</table>\n",
       "</div>"
      ],
      "text/plain": [
       "    sex birth_year country continent          occupation    industry  \\\n",
       "0  Male       -384  Greece    Europe         Philosopher  Philosophy   \n",
       "1  Male       -427  Greece    Europe         Philosopher  Philosophy   \n",
       "2  Male         -4  Israel      Asia    Religious Figure    Religion   \n",
       "3  Male       -469  Greece    Europe         Philosopher  Philosophy   \n",
       "4  Male       -356  Greece    Europe  Military Personnel    Military   \n",
       "\n",
       "         domain  article_languages  page_views  average_views  \\\n",
       "0    Humanities                152    56355172         370758   \n",
       "1    Humanities                142    46812003         329662   \n",
       "2  Institutions                214    60299092         281771   \n",
       "3    Humanities                137    40307143         294213   \n",
       "4  Institutions                138    48358148         350421   \n",
       "\n",
       "   historical_popularity_index  \n",
       "0                      31.9938  \n",
       "1                      31.9888  \n",
       "2                      31.8981  \n",
       "3                      31.6521  \n",
       "4                      31.5840  "
      ]
     },
     "execution_count": 8,
     "metadata": {},
     "output_type": "execute_result"
    }
   ],
   "source": [
    "df.head()"
   ]
  },
  {
   "cell_type": "code",
   "execution_count": 9,
   "metadata": {},
   "outputs": [
    {
     "name": "stdout",
     "output_type": "stream",
     "text": [
      "<class 'pandas.core.frame.DataFrame'>\n",
      "RangeIndex: 11278 entries, 0 to 11277\n",
      "Data columns (total 11 columns):\n",
      " #   Column                       Non-Null Count  Dtype  \n",
      "---  ------                       --------------  -----  \n",
      " 0   sex                          11278 non-null  object \n",
      " 1   birth_year                   11278 non-null  object \n",
      " 2   country                      11278 non-null  object \n",
      " 3   continent                    11278 non-null  object \n",
      " 4   occupation                   11278 non-null  object \n",
      " 5   industry                     11278 non-null  object \n",
      " 6   domain                       11278 non-null  object \n",
      " 7   article_languages            11278 non-null  int64  \n",
      " 8   page_views                   11278 non-null  int64  \n",
      " 9   average_views                11278 non-null  int64  \n",
      " 10  historical_popularity_index  11278 non-null  float64\n",
      "dtypes: float64(1), int64(3), object(7)\n",
      "memory usage: 969.3+ KB\n"
     ]
    }
   ],
   "source": [
    "df.info()"
   ]
  },
  {
   "cell_type": "code",
   "execution_count": 10,
   "metadata": {},
   "outputs": [],
   "source": [
    "from sklearn.preprocessing import LabelEncoder, OrdinalEncoder"
   ]
  },
  {
   "cell_type": "code",
   "execution_count": 11,
   "metadata": {},
   "outputs": [],
   "source": [
    "encode = OrdinalEncoder()\n",
    "encode.fit(df[['sex','country','continent','occupation','industry','domain']])\n",
    "df[['sex','country','continent','occupation','industry','domain']] = encode.transform(df[['sex','country','continent','occupation','industry','domain']])"
   ]
  },
  {
   "cell_type": "code",
   "execution_count": 12,
   "metadata": {},
   "outputs": [],
   "source": [
    "df.loc[df[\"birth_year\"] == \"530s\", \"birth_year\"] = 530\n",
    "df.loc[df[\"birth_year\"] == \"1237?\", \"birth_year\"] = 1237\n",
    "df = df.drop(df.index[df.loc[:,\"birth_year\"] == \"Unknown\"])\n",
    "df.loc[:, \"birth_year\"] = pd.to_numeric(df.loc[:,\"birth_year\"])"
   ]
  },
  {
   "cell_type": "code",
   "execution_count": 13,
   "metadata": {},
   "outputs": [
    {
     "data": {
      "text/html": [
       "<div>\n",
       "<style scoped>\n",
       "    .dataframe tbody tr th:only-of-type {\n",
       "        vertical-align: middle;\n",
       "    }\n",
       "\n",
       "    .dataframe tbody tr th {\n",
       "        vertical-align: top;\n",
       "    }\n",
       "\n",
       "    .dataframe thead th {\n",
       "        text-align: right;\n",
       "    }\n",
       "</style>\n",
       "<table border=\"1\" class=\"dataframe\">\n",
       "  <thead>\n",
       "    <tr style=\"text-align: right;\">\n",
       "      <th></th>\n",
       "      <th>sex</th>\n",
       "      <th>birth_year</th>\n",
       "      <th>country</th>\n",
       "      <th>continent</th>\n",
       "      <th>occupation</th>\n",
       "      <th>industry</th>\n",
       "      <th>domain</th>\n",
       "      <th>article_languages</th>\n",
       "      <th>page_views</th>\n",
       "      <th>average_views</th>\n",
       "      <th>historical_popularity_index</th>\n",
       "    </tr>\n",
       "  </thead>\n",
       "  <tbody>\n",
       "    <tr>\n",
       "      <th>0</th>\n",
       "      <td>1.0</td>\n",
       "      <td>-384</td>\n",
       "      <td>61.0</td>\n",
       "      <td>2.0</td>\n",
       "      <td>59.0</td>\n",
       "      <td>23.0</td>\n",
       "      <td>3.0</td>\n",
       "      <td>152</td>\n",
       "      <td>56355172</td>\n",
       "      <td>370758</td>\n",
       "      <td>31.9938</td>\n",
       "    </tr>\n",
       "    <tr>\n",
       "      <th>1</th>\n",
       "      <td>1.0</td>\n",
       "      <td>-427</td>\n",
       "      <td>61.0</td>\n",
       "      <td>2.0</td>\n",
       "      <td>59.0</td>\n",
       "      <td>23.0</td>\n",
       "      <td>3.0</td>\n",
       "      <td>142</td>\n",
       "      <td>46812003</td>\n",
       "      <td>329662</td>\n",
       "      <td>31.9888</td>\n",
       "    </tr>\n",
       "    <tr>\n",
       "      <th>2</th>\n",
       "      <td>1.0</td>\n",
       "      <td>-4</td>\n",
       "      <td>78.0</td>\n",
       "      <td>1.0</td>\n",
       "      <td>74.0</td>\n",
       "      <td>24.0</td>\n",
       "      <td>4.0</td>\n",
       "      <td>214</td>\n",
       "      <td>60299092</td>\n",
       "      <td>281771</td>\n",
       "      <td>31.8981</td>\n",
       "    </tr>\n",
       "    <tr>\n",
       "      <th>3</th>\n",
       "      <td>1.0</td>\n",
       "      <td>-469</td>\n",
       "      <td>61.0</td>\n",
       "      <td>2.0</td>\n",
       "      <td>59.0</td>\n",
       "      <td>23.0</td>\n",
       "      <td>3.0</td>\n",
       "      <td>137</td>\n",
       "      <td>40307143</td>\n",
       "      <td>294213</td>\n",
       "      <td>31.6521</td>\n",
       "    </tr>\n",
       "    <tr>\n",
       "      <th>4</th>\n",
       "      <td>1.0</td>\n",
       "      <td>-356</td>\n",
       "      <td>61.0</td>\n",
       "      <td>2.0</td>\n",
       "      <td>53.0</td>\n",
       "      <td>19.0</td>\n",
       "      <td>4.0</td>\n",
       "      <td>138</td>\n",
       "      <td>48358148</td>\n",
       "      <td>350421</td>\n",
       "      <td>31.5840</td>\n",
       "    </tr>\n",
       "  </tbody>\n",
       "</table>\n",
       "</div>"
      ],
      "text/plain": [
       "   sex  birth_year  country  continent  occupation  industry  domain  \\\n",
       "0  1.0        -384     61.0        2.0        59.0      23.0     3.0   \n",
       "1  1.0        -427     61.0        2.0        59.0      23.0     3.0   \n",
       "2  1.0          -4     78.0        1.0        74.0      24.0     4.0   \n",
       "3  1.0        -469     61.0        2.0        59.0      23.0     3.0   \n",
       "4  1.0        -356     61.0        2.0        53.0      19.0     4.0   \n",
       "\n",
       "   article_languages  page_views  average_views  historical_popularity_index  \n",
       "0                152    56355172         370758                      31.9938  \n",
       "1                142    46812003         329662                      31.9888  \n",
       "2                214    60299092         281771                      31.8981  \n",
       "3                137    40307143         294213                      31.6521  \n",
       "4                138    48358148         350421                      31.5840  "
      ]
     },
     "execution_count": 13,
     "metadata": {},
     "output_type": "execute_result"
    }
   ],
   "source": [
    "df.head()"
   ]
  },
  {
   "cell_type": "code",
   "execution_count": 14,
   "metadata": {},
   "outputs": [
    {
     "name": "stdout",
     "output_type": "stream",
     "text": [
      "<class 'pandas.core.frame.DataFrame'>\n",
      "Int64Index: 11276 entries, 0 to 11277\n",
      "Data columns (total 11 columns):\n",
      " #   Column                       Non-Null Count  Dtype  \n",
      "---  ------                       --------------  -----  \n",
      " 0   sex                          11276 non-null  float64\n",
      " 1   birth_year                   11276 non-null  int64  \n",
      " 2   country                      11276 non-null  float64\n",
      " 3   continent                    11276 non-null  float64\n",
      " 4   occupation                   11276 non-null  float64\n",
      " 5   industry                     11276 non-null  float64\n",
      " 6   domain                       11276 non-null  float64\n",
      " 7   article_languages            11276 non-null  int64  \n",
      " 8   page_views                   11276 non-null  int64  \n",
      " 9   average_views                11276 non-null  int64  \n",
      " 10  historical_popularity_index  11276 non-null  float64\n",
      "dtypes: float64(7), int64(4)\n",
      "memory usage: 1.0 MB\n"
     ]
    }
   ],
   "source": [
    "df.info()"
   ]
  },
  {
   "cell_type": "markdown",
   "metadata": {},
   "source": [
    "# Modeling"
   ]
  },
  {
   "cell_type": "markdown",
   "metadata": {},
   "source": [
    "## Dataset Splitting"
   ]
  },
  {
   "cell_type": "code",
   "execution_count": 15,
   "metadata": {},
   "outputs": [],
   "source": [
    "from sklearn.model_selection import train_test_split"
   ]
  },
  {
   "cell_type": "code",
   "execution_count": 16,
   "metadata": {},
   "outputs": [
    {
     "data": {
      "text/plain": [
       "((9020, 10), (2256, 10), (9020,), (2256,))"
      ]
     },
     "execution_count": 16,
     "metadata": {},
     "output_type": "execute_result"
    }
   ],
   "source": [
    "X = df.drop(columns=['historical_popularity_index'])\n",
    "y = df['historical_popularity_index']\n",
    "\n",
    "X_train,X_test,y_train,y_test = train_test_split(X,y,test_size=0.2,random_state=42)\n",
    "X_train.shape,X_test.shape,y_train.shape,y_test.shape"
   ]
  },
  {
   "cell_type": "markdown",
   "metadata": {},
   "source": [
    "## Learning "
   ]
  },
  {
   "cell_type": "code",
   "execution_count": 17,
   "metadata": {},
   "outputs": [],
   "source": [
    "from sklearn.ensemble import RandomForestRegressor\n",
    "from sklearn.model_selection import GridSearchCV, RandomizedSearchCV"
   ]
  },
  {
   "cell_type": "code",
   "execution_count": 18,
   "metadata": {},
   "outputs": [],
   "source": [
    "param_rf = {\n",
    "    'n_estimators':[100,150,200],\n",
    "    'max_depth':[20,50,80],\n",
    "    'max_features':[0.3,0.6,0.8],\n",
    "    'min_samples_leaf':[1,5,10],\n",
    "}"
   ]
  },
  {
   "cell_type": "code",
   "execution_count": 19,
   "metadata": {},
   "outputs": [],
   "source": [
    "rf = RandomForestRegressor(n_jobs=-1,random_state=42)"
   ]
  },
  {
   "cell_type": "code",
   "execution_count": 20,
   "metadata": {},
   "outputs": [
    {
     "name": "stdout",
     "output_type": "stream",
     "text": [
      "Fitting 3 folds for each of 81 candidates, totalling 243 fits\n"
     ]
    },
    {
     "name": "stderr",
     "output_type": "stream",
     "text": [
      "[Parallel(n_jobs=-1)]: Using backend LokyBackend with 8 concurrent workers.\n",
      "[Parallel(n_jobs=-1)]: Done  34 tasks      | elapsed:   16.5s\n",
      "[Parallel(n_jobs=-1)]: Done 184 tasks      | elapsed:  1.4min\n",
      "[Parallel(n_jobs=-1)]: Done 243 out of 243 | elapsed:  1.9min finished\n"
     ]
    },
    {
     "name": "stdout",
     "output_type": "stream",
     "text": [
      "{'max_depth': 50, 'max_features': 0.6, 'min_samples_leaf': 1, 'n_estimators': 200}\n",
      "Train data R squared score:  0.990762201553902\n",
      "Test data R squared score:  0.944837462080995\n"
     ]
    }
   ],
   "source": [
    "model_rf = GridSearchCV(rf,param_rf,cv=3,n_jobs=-1,verbose=1)\n",
    "model_rf.fit(X_train,y_train)\n",
    "\n",
    "print(model_rf.best_params_)\n",
    "print(\"Train data R squared score: \", model_rf.score(X_train,y_train))\n",
    "print(\"Test data R squared score: \", model_rf.score(X_test,y_test))"
   ]
  },
  {
   "cell_type": "code",
   "execution_count": 79,
   "metadata": {},
   "outputs": [],
   "source": [
    "from sklearn.metrics import mean_absolute_error, mean_squared_error, r2_score"
   ]
  },
  {
   "cell_type": "code",
   "execution_count": 80,
   "metadata": {},
   "outputs": [],
   "source": [
    "y_pred = model_rf.predict(X_test)"
   ]
  },
  {
   "cell_type": "code",
   "execution_count": 81,
   "metadata": {},
   "outputs": [],
   "source": [
    "mae = mean_absolute_error(y_test,y_pred)\n",
    "mse = mean_squared_error(y_test,y_pred)\n",
    "r2 = r2_score(y_test,y_pred)"
   ]
  },
  {
   "cell_type": "code",
   "execution_count": 82,
   "metadata": {},
   "outputs": [
    {
     "name": "stdout",
     "output_type": "stream",
     "text": [
      "The model performance for testing set\n",
      "--------------------------------------\n",
      "MAE is 0.5956149401595746\n",
      "MSE is 0.6401514071494155\n",
      "R2 score is 0.944837462080995\n"
     ]
    }
   ],
   "source": [
    "print(\"The model performance for testing set\")\n",
    "print(\"--------------------------------------\")\n",
    "print('MAE is {}'.format(mae))\n",
    "print('MSE is {}'.format(mse))\n",
    "print('R2 score is {}'.format(r2))"
   ]
  },
  {
   "cell_type": "code",
   "execution_count": null,
   "metadata": {},
   "outputs": [],
   "source": []
  }
 ],
 "metadata": {
  "kernelspec": {
   "display_name": "Python [conda env:defiska] *",
   "language": "python",
   "name": "conda-env-defiska-py"
  },
  "language_info": {
   "codemirror_mode": {
    "name": "ipython",
    "version": 3
   },
   "file_extension": ".py",
   "mimetype": "text/x-python",
   "name": "python",
   "nbconvert_exporter": "python",
   "pygments_lexer": "ipython3",
   "version": "3.8.5"
  }
 },
 "nbformat": 4,
 "nbformat_minor": 4
}
