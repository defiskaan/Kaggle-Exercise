{
 "cells": [
  {
   "cell_type": "code",
   "execution_count": 1,
   "metadata": {},
   "outputs": [],
   "source": [
    "import pandas as pd\n",
    "import numpy as np\n",
    "import matplotlib.pyplot as plt\n",
    "import seaborn as sns"
   ]
  },
  {
   "cell_type": "code",
   "execution_count": 2,
   "metadata": {},
   "outputs": [
    {
     "name": "stdout",
     "output_type": "stream",
     "text": [
      "<class 'pandas.core.frame.DataFrame'>\n",
      "RangeIndex: 5411 entries, 0 to 5410\n",
      "Data columns (total 5 columns):\n",
      " #   Column   Non-Null Count  Dtype  \n",
      "---  ------   --------------  -----  \n",
      " 0   id       5411 non-null   int64  \n",
      " 1   lat      5411 non-null   float64\n",
      " 2   lon      5411 non-null   float64\n",
      " 3   country  5379 non-null   object \n",
      " 4   city     3727 non-null   object \n",
      "dtypes: float64(2), int64(1), object(2)\n",
      "memory usage: 211.5+ KB\n"
     ]
    }
   ],
   "source": [
    "df_geo = pd.read_csv('File CSV/geodata.csv')\n",
    "df_geo.info()"
   ]
  },
  {
   "cell_type": "code",
   "execution_count": 3,
   "metadata": {},
   "outputs": [],
   "source": [
    "df_geo_nan = df_geo[df_geo['country'].isna()].groupby(['lat','lon']).count()\n",
    "df_geo_nan.drop(columns=['id','city'],inplace=True)"
   ]
  },
  {
   "cell_type": "code",
   "execution_count": 4,
   "metadata": {},
   "outputs": [],
   "source": [
    "nan_country = ['ATA',np.nan,'IDN',np.nan,np.nan,'CAF','ETH','KHM','MEX','USA','USA','CHN','USA','DEU','RUS','NOR']"
   ]
  },
  {
   "cell_type": "code",
   "execution_count": 5,
   "metadata": {},
   "outputs": [],
   "source": [
    "df_geo_nan['country'] = nan_country\n",
    "df_geo_nan.reset_index(inplace=True)"
   ]
  },
  {
   "cell_type": "code",
   "execution_count": 6,
   "metadata": {},
   "outputs": [
    {
     "data": {
      "text/html": [
       "<div>\n",
       "<style scoped>\n",
       "    .dataframe tbody tr th:only-of-type {\n",
       "        vertical-align: middle;\n",
       "    }\n",
       "\n",
       "    .dataframe tbody tr th {\n",
       "        vertical-align: top;\n",
       "    }\n",
       "\n",
       "    .dataframe thead th {\n",
       "        text-align: right;\n",
       "    }\n",
       "</style>\n",
       "<table border=\"1\" class=\"dataframe\">\n",
       "  <thead>\n",
       "    <tr style=\"text-align: right;\">\n",
       "      <th></th>\n",
       "      <th>lat</th>\n",
       "      <th>lon</th>\n",
       "      <th>country</th>\n",
       "    </tr>\n",
       "  </thead>\n",
       "  <tbody>\n",
       "    <tr>\n",
       "      <th>0</th>\n",
       "      <td>-78.158560</td>\n",
       "      <td>16.406260</td>\n",
       "      <td>ATA</td>\n",
       "    </tr>\n",
       "    <tr>\n",
       "      <th>1</th>\n",
       "      <td>-6.288693</td>\n",
       "      <td>53.337853</td>\n",
       "      <td>NaN</td>\n",
       "    </tr>\n",
       "    <tr>\n",
       "      <th>2</th>\n",
       "      <td>-6.152261</td>\n",
       "      <td>106.775995</td>\n",
       "      <td>IDN</td>\n",
       "    </tr>\n",
       "    <tr>\n",
       "      <th>3</th>\n",
       "      <td>0.000000</td>\n",
       "      <td>0.000000</td>\n",
       "      <td>NaN</td>\n",
       "    </tr>\n",
       "    <tr>\n",
       "      <th>4</th>\n",
       "      <td>2.399227</td>\n",
       "      <td>48.870833</td>\n",
       "      <td>NaN</td>\n",
       "    </tr>\n",
       "  </tbody>\n",
       "</table>\n",
       "</div>"
      ],
      "text/plain": [
       "         lat         lon country\n",
       "0 -78.158560   16.406260     ATA\n",
       "1  -6.288693   53.337853     NaN\n",
       "2  -6.152261  106.775995     IDN\n",
       "3   0.000000    0.000000     NaN\n",
       "4   2.399227   48.870833     NaN"
      ]
     },
     "execution_count": 6,
     "metadata": {},
     "output_type": "execute_result"
    }
   ],
   "source": [
    "df_geo_nan.head()"
   ]
  },
  {
   "cell_type": "code",
   "execution_count": 7,
   "metadata": {},
   "outputs": [],
   "source": [
    "# Combine\n",
    "\n",
    "geodata_clean = df_geo.merge(df_geo_nan,how='left',left_on=['lat','lon'],right_on=['lat','lon'])"
   ]
  },
  {
   "cell_type": "code",
   "execution_count": 8,
   "metadata": {},
   "outputs": [
    {
     "data": {
      "text/html": [
       "<div>\n",
       "<style scoped>\n",
       "    .dataframe tbody tr th:only-of-type {\n",
       "        vertical-align: middle;\n",
       "    }\n",
       "\n",
       "    .dataframe tbody tr th {\n",
       "        vertical-align: top;\n",
       "    }\n",
       "\n",
       "    .dataframe thead th {\n",
       "        text-align: right;\n",
       "    }\n",
       "</style>\n",
       "<table border=\"1\" class=\"dataframe\">\n",
       "  <thead>\n",
       "    <tr style=\"text-align: right;\">\n",
       "      <th></th>\n",
       "      <th>id</th>\n",
       "      <th>lat</th>\n",
       "      <th>lon</th>\n",
       "      <th>country_x</th>\n",
       "      <th>city</th>\n",
       "      <th>country_y</th>\n",
       "    </tr>\n",
       "  </thead>\n",
       "  <tbody>\n",
       "    <tr>\n",
       "      <th>0</th>\n",
       "      <td>46</td>\n",
       "      <td>51.50642</td>\n",
       "      <td>-0.12721</td>\n",
       "      <td>GBR</td>\n",
       "      <td>London</td>\n",
       "      <td>NaN</td>\n",
       "    </tr>\n",
       "    <tr>\n",
       "      <th>1</th>\n",
       "      <td>322</td>\n",
       "      <td>51.50642</td>\n",
       "      <td>-0.12721</td>\n",
       "      <td>GBR</td>\n",
       "      <td>London</td>\n",
       "      <td>NaN</td>\n",
       "    </tr>\n",
       "    <tr>\n",
       "      <th>2</th>\n",
       "      <td>344</td>\n",
       "      <td>51.50642</td>\n",
       "      <td>-0.12721</td>\n",
       "      <td>GBR</td>\n",
       "      <td>London</td>\n",
       "      <td>NaN</td>\n",
       "    </tr>\n",
       "    <tr>\n",
       "      <th>3</th>\n",
       "      <td>717</td>\n",
       "      <td>51.50642</td>\n",
       "      <td>-0.12721</td>\n",
       "      <td>GBR</td>\n",
       "      <td>London</td>\n",
       "      <td>NaN</td>\n",
       "    </tr>\n",
       "    <tr>\n",
       "      <th>4</th>\n",
       "      <td>1136</td>\n",
       "      <td>51.50642</td>\n",
       "      <td>-0.12721</td>\n",
       "      <td>GBR</td>\n",
       "      <td>London</td>\n",
       "      <td>NaN</td>\n",
       "    </tr>\n",
       "  </tbody>\n",
       "</table>\n",
       "</div>"
      ],
      "text/plain": [
       "     id       lat      lon country_x    city country_y\n",
       "0    46  51.50642 -0.12721       GBR  London       NaN\n",
       "1   322  51.50642 -0.12721       GBR  London       NaN\n",
       "2   344  51.50642 -0.12721       GBR  London       NaN\n",
       "3   717  51.50642 -0.12721       GBR  London       NaN\n",
       "4  1136  51.50642 -0.12721       GBR  London       NaN"
      ]
     },
     "execution_count": 8,
     "metadata": {},
     "output_type": "execute_result"
    }
   ],
   "source": [
    "geodata_clean.head()"
   ]
  },
  {
   "cell_type": "code",
   "execution_count": 9,
   "metadata": {},
   "outputs": [
    {
     "name": "stderr",
     "output_type": "stream",
     "text": [
      "<ipython-input-9-70c2f7ccc1b1>:4: SettingWithCopyWarning: \n",
      "A value is trying to be set on a copy of a slice from a DataFrame\n",
      "\n",
      "See the caveats in the documentation: https://pandas.pydata.org/pandas-docs/stable/user_guide/indexing.html#returning-a-view-versus-a-copy\n",
      "  geodata_clean['country_x'][i] = geodata_clean['country_y'][i]\n"
     ]
    }
   ],
   "source": [
    "a = []\n",
    "for i in range(len(geodata_clean['id'])):\n",
    "    if pd.isnull(geodata_clean['country_x'][i]) == True:\n",
    "        geodata_clean['country_x'][i] = geodata_clean['country_y'][i]"
   ]
  },
  {
   "cell_type": "code",
   "execution_count": 10,
   "metadata": {},
   "outputs": [
    {
     "name": "stdout",
     "output_type": "stream",
     "text": [
      "<class 'pandas.core.frame.DataFrame'>\n",
      "Int64Index: 5411 entries, 0 to 5410\n",
      "Data columns (total 6 columns):\n",
      " #   Column     Non-Null Count  Dtype  \n",
      "---  ------     --------------  -----  \n",
      " 0   id         5411 non-null   int64  \n",
      " 1   lat        5411 non-null   float64\n",
      " 2   lon        5411 non-null   float64\n",
      " 3   country_x  5408 non-null   object \n",
      " 4   city       3727 non-null   object \n",
      " 5   country_y  29 non-null     object \n",
      "dtypes: float64(2), int64(1), object(3)\n",
      "memory usage: 455.9+ KB\n"
     ]
    }
   ],
   "source": [
    "geodata_clean.info()"
   ]
  },
  {
   "cell_type": "code",
   "execution_count": 11,
   "metadata": {},
   "outputs": [],
   "source": [
    "geodata_clean['country'] = geodata_clean['country_x']\n",
    "geodata_clean.drop(columns=['country_x','country_y'],inplace=True)\n",
    "geodata_clean.to_csv('File CSV/geodata_clean.csv')"
   ]
  },
  {
   "cell_type": "code",
   "execution_count": null,
   "metadata": {},
   "outputs": [],
   "source": []
  }
 ],
 "metadata": {
  "kernelspec": {
   "display_name": "Python [conda env:defiska] *",
   "language": "python",
   "name": "conda-env-defiska-py"
  },
  "language_info": {
   "codemirror_mode": {
    "name": "ipython",
    "version": 3
   },
   "file_extension": ".py",
   "mimetype": "text/x-python",
   "name": "python",
   "nbconvert_exporter": "python",
   "pygments_lexer": "ipython3",
   "version": "3.8.5"
  }
 },
 "nbformat": 4,
 "nbformat_minor": 4
}
