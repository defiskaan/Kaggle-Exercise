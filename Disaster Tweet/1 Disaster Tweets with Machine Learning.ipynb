{
 "cells": [
  {
   "cell_type": "markdown",
   "metadata": {},
   "source": [
    "# Problem Definition"
   ]
  },
  {
   "cell_type": "markdown",
   "metadata": {},
   "source": [
    "Information related to an event can be presented in the form of written news. The news generally contains a topic at the core of what is discussed. And it is important to understand what the news is about. And we have found various news sources everywhere, including Twitter. Twitter has become a common place for people to convey news or information to others, including news related to disasters that have occurred in the surrounding area. For certain parties, it is important to process information on social media and determine the validity or classify the news so that there is no misunderstanding. And often times, prompt and actionable action is required by the relevant authorities to validate the news or information that is still uncertain. Therefore, Natural Language Processing (NLP) and Machine Learning (ML) technology can help us extract information and determine the validity of news or news."
   ]
  },
  {
   "cell_type": "code",
   "execution_count": 1,
   "metadata": {},
   "outputs": [],
   "source": [
    "import pandas as pd\n",
    "import numpy as np\n",
    "import matplotlib.pyplot as plt\n",
    "import seaborn as sns"
   ]
  },
  {
   "cell_type": "markdown",
   "metadata": {},
   "source": [
    "# Import Data"
   ]
  },
  {
   "cell_type": "code",
   "execution_count": 2,
   "metadata": {},
   "outputs": [
    {
     "data": {
      "text/html": [
       "<div>\n",
       "<style scoped>\n",
       "    .dataframe tbody tr th:only-of-type {\n",
       "        vertical-align: middle;\n",
       "    }\n",
       "\n",
       "    .dataframe tbody tr th {\n",
       "        vertical-align: top;\n",
       "    }\n",
       "\n",
       "    .dataframe thead th {\n",
       "        text-align: right;\n",
       "    }\n",
       "</style>\n",
       "<table border=\"1\" class=\"dataframe\">\n",
       "  <thead>\n",
       "    <tr style=\"text-align: right;\">\n",
       "      <th></th>\n",
       "      <th>id</th>\n",
       "      <th>keyword</th>\n",
       "      <th>location</th>\n",
       "      <th>text</th>\n",
       "      <th>target</th>\n",
       "    </tr>\n",
       "  </thead>\n",
       "  <tbody>\n",
       "    <tr>\n",
       "      <th>0</th>\n",
       "      <td>1</td>\n",
       "      <td>NaN</td>\n",
       "      <td>NaN</td>\n",
       "      <td>Our Deeds are the Reason of this #earthquake M...</td>\n",
       "      <td>1</td>\n",
       "    </tr>\n",
       "    <tr>\n",
       "      <th>1</th>\n",
       "      <td>4</td>\n",
       "      <td>NaN</td>\n",
       "      <td>NaN</td>\n",
       "      <td>Forest fire near La Ronge Sask. Canada</td>\n",
       "      <td>1</td>\n",
       "    </tr>\n",
       "    <tr>\n",
       "      <th>2</th>\n",
       "      <td>5</td>\n",
       "      <td>NaN</td>\n",
       "      <td>NaN</td>\n",
       "      <td>All residents asked to 'shelter in place' are ...</td>\n",
       "      <td>1</td>\n",
       "    </tr>\n",
       "    <tr>\n",
       "      <th>3</th>\n",
       "      <td>6</td>\n",
       "      <td>NaN</td>\n",
       "      <td>NaN</td>\n",
       "      <td>13,000 people receive #wildfires evacuation or...</td>\n",
       "      <td>1</td>\n",
       "    </tr>\n",
       "    <tr>\n",
       "      <th>4</th>\n",
       "      <td>7</td>\n",
       "      <td>NaN</td>\n",
       "      <td>NaN</td>\n",
       "      <td>Just got sent this photo from Ruby #Alaska as ...</td>\n",
       "      <td>1</td>\n",
       "    </tr>\n",
       "  </tbody>\n",
       "</table>\n",
       "</div>"
      ],
      "text/plain": [
       "   id keyword location                                               text  \\\n",
       "0   1     NaN      NaN  Our Deeds are the Reason of this #earthquake M...   \n",
       "1   4     NaN      NaN             Forest fire near La Ronge Sask. Canada   \n",
       "2   5     NaN      NaN  All residents asked to 'shelter in place' are ...   \n",
       "3   6     NaN      NaN  13,000 people receive #wildfires evacuation or...   \n",
       "4   7     NaN      NaN  Just got sent this photo from Ruby #Alaska as ...   \n",
       "\n",
       "   target  \n",
       "0       1  \n",
       "1       1  \n",
       "2       1  \n",
       "3       1  \n",
       "4       1  "
      ]
     },
     "execution_count": 2,
     "metadata": {},
     "output_type": "execute_result"
    }
   ],
   "source": [
    "df_tweet = pd.read_csv('File CSV/raw_data.csv')\n",
    "df_tweet.head()"
   ]
  },
  {
   "cell_type": "code",
   "execution_count": 3,
   "metadata": {},
   "outputs": [
    {
     "name": "stdout",
     "output_type": "stream",
     "text": [
      "<class 'pandas.core.frame.DataFrame'>\n",
      "RangeIndex: 7613 entries, 0 to 7612\n",
      "Data columns (total 5 columns):\n",
      " #   Column    Non-Null Count  Dtype \n",
      "---  ------    --------------  ----- \n",
      " 0   id        7613 non-null   int64 \n",
      " 1   keyword   7552 non-null   object\n",
      " 2   location  5080 non-null   object\n",
      " 3   text      7613 non-null   object\n",
      " 4   target    7613 non-null   int64 \n",
      "dtypes: int64(2), object(3)\n",
      "memory usage: 297.5+ KB\n"
     ]
    }
   ],
   "source": [
    "df_tweet.info()"
   ]
  },
  {
   "cell_type": "code",
   "execution_count": 4,
   "metadata": {},
   "outputs": [
    {
     "data": {
      "text/html": [
       "<div>\n",
       "<style scoped>\n",
       "    .dataframe tbody tr th:only-of-type {\n",
       "        vertical-align: middle;\n",
       "    }\n",
       "\n",
       "    .dataframe tbody tr th {\n",
       "        vertical-align: top;\n",
       "    }\n",
       "\n",
       "    .dataframe thead th {\n",
       "        text-align: right;\n",
       "    }\n",
       "</style>\n",
       "<table border=\"1\" class=\"dataframe\">\n",
       "  <thead>\n",
       "    <tr style=\"text-align: right;\">\n",
       "      <th></th>\n",
       "      <th>Unnamed: 0</th>\n",
       "      <th>id</th>\n",
       "      <th>lat</th>\n",
       "      <th>lon</th>\n",
       "      <th>city</th>\n",
       "      <th>country</th>\n",
       "    </tr>\n",
       "  </thead>\n",
       "  <tbody>\n",
       "    <tr>\n",
       "      <th>0</th>\n",
       "      <td>0</td>\n",
       "      <td>46</td>\n",
       "      <td>51.50642</td>\n",
       "      <td>-0.12721</td>\n",
       "      <td>London</td>\n",
       "      <td>GBR</td>\n",
       "    </tr>\n",
       "    <tr>\n",
       "      <th>1</th>\n",
       "      <td>1</td>\n",
       "      <td>322</td>\n",
       "      <td>51.50642</td>\n",
       "      <td>-0.12721</td>\n",
       "      <td>London</td>\n",
       "      <td>GBR</td>\n",
       "    </tr>\n",
       "    <tr>\n",
       "      <th>2</th>\n",
       "      <td>2</td>\n",
       "      <td>344</td>\n",
       "      <td>51.50642</td>\n",
       "      <td>-0.12721</td>\n",
       "      <td>London</td>\n",
       "      <td>GBR</td>\n",
       "    </tr>\n",
       "    <tr>\n",
       "      <th>3</th>\n",
       "      <td>3</td>\n",
       "      <td>717</td>\n",
       "      <td>51.50642</td>\n",
       "      <td>-0.12721</td>\n",
       "      <td>London</td>\n",
       "      <td>GBR</td>\n",
       "    </tr>\n",
       "    <tr>\n",
       "      <th>4</th>\n",
       "      <td>4</td>\n",
       "      <td>1136</td>\n",
       "      <td>51.50642</td>\n",
       "      <td>-0.12721</td>\n",
       "      <td>London</td>\n",
       "      <td>GBR</td>\n",
       "    </tr>\n",
       "  </tbody>\n",
       "</table>\n",
       "</div>"
      ],
      "text/plain": [
       "   Unnamed: 0    id       lat      lon    city country\n",
       "0           0    46  51.50642 -0.12721  London     GBR\n",
       "1           1   322  51.50642 -0.12721  London     GBR\n",
       "2           2   344  51.50642 -0.12721  London     GBR\n",
       "3           3   717  51.50642 -0.12721  London     GBR\n",
       "4           4  1136  51.50642 -0.12721  London     GBR"
      ]
     },
     "execution_count": 4,
     "metadata": {},
     "output_type": "execute_result"
    }
   ],
   "source": [
    "df_geo = pd.read_csv('File CSV/geodata_clean.csv')\n",
    "df_geo.head()"
   ]
  },
  {
   "cell_type": "code",
   "execution_count": 5,
   "metadata": {},
   "outputs": [
    {
     "name": "stdout",
     "output_type": "stream",
     "text": [
      "<class 'pandas.core.frame.DataFrame'>\n",
      "RangeIndex: 5411 entries, 0 to 5410\n",
      "Data columns (total 6 columns):\n",
      " #   Column      Non-Null Count  Dtype  \n",
      "---  ------      --------------  -----  \n",
      " 0   Unnamed: 0  5411 non-null   int64  \n",
      " 1   id          5411 non-null   int64  \n",
      " 2   lat         5411 non-null   float64\n",
      " 3   lon         5411 non-null   float64\n",
      " 4   city        3727 non-null   object \n",
      " 5   country     5408 non-null   object \n",
      "dtypes: float64(2), int64(2), object(2)\n",
      "memory usage: 253.8+ KB\n"
     ]
    }
   ],
   "source": [
    "df_geo.info()"
   ]
  },
  {
   "cell_type": "markdown",
   "metadata": {},
   "source": [
    "# Data Preprocessing"
   ]
  },
  {
   "cell_type": "markdown",
   "metadata": {},
   "source": [
    "### 1. Join Dataset and Cleansing"
   ]
  },
  {
   "cell_type": "code",
   "execution_count": 6,
   "metadata": {},
   "outputs": [],
   "source": [
    "df = df_tweet.merge(df_geo,how='inner',left_on='id',right_on='id')\n",
    "df.drop(columns=['keyword','location','city'],inplace=True)"
   ]
  },
  {
   "cell_type": "code",
   "execution_count": 7,
   "metadata": {},
   "outputs": [],
   "source": [
    "df = df.dropna().reset_index(drop=True)\n",
    "df.to_csv('File CSV/data_clean.csv')"
   ]
  },
  {
   "cell_type": "code",
   "execution_count": 8,
   "metadata": {},
   "outputs": [
    {
     "name": "stdout",
     "output_type": "stream",
     "text": [
      "<class 'pandas.core.frame.DataFrame'>\n",
      "RangeIndex: 3800 entries, 0 to 3799\n",
      "Data columns (total 7 columns):\n",
      " #   Column      Non-Null Count  Dtype  \n",
      "---  ------      --------------  -----  \n",
      " 0   id          3800 non-null   int64  \n",
      " 1   text        3800 non-null   object \n",
      " 2   target      3800 non-null   int64  \n",
      " 3   Unnamed: 0  3800 non-null   int64  \n",
      " 4   lat         3800 non-null   float64\n",
      " 5   lon         3800 non-null   float64\n",
      " 6   country     3800 non-null   object \n",
      "dtypes: float64(2), int64(3), object(2)\n",
      "memory usage: 207.9+ KB\n"
     ]
    }
   ],
   "source": [
    "df.info()"
   ]
  },
  {
   "cell_type": "code",
   "execution_count": 9,
   "metadata": {},
   "outputs": [
    {
     "data": {
      "text/html": [
       "<div>\n",
       "<style scoped>\n",
       "    .dataframe tbody tr th:only-of-type {\n",
       "        vertical-align: middle;\n",
       "    }\n",
       "\n",
       "    .dataframe tbody tr th {\n",
       "        vertical-align: top;\n",
       "    }\n",
       "\n",
       "    .dataframe thead th {\n",
       "        text-align: right;\n",
       "    }\n",
       "</style>\n",
       "<table border=\"1\" class=\"dataframe\">\n",
       "  <thead>\n",
       "    <tr style=\"text-align: right;\">\n",
       "      <th></th>\n",
       "      <th>id</th>\n",
       "      <th>text</th>\n",
       "      <th>target</th>\n",
       "      <th>Unnamed: 0</th>\n",
       "      <th>lat</th>\n",
       "      <th>lon</th>\n",
       "      <th>country</th>\n",
       "    </tr>\n",
       "  </thead>\n",
       "  <tbody>\n",
       "    <tr>\n",
       "      <th>0</th>\n",
       "      <td>48</td>\n",
       "      <td>@bbcmtd Wholesale Markets ablaze http://t.co/l...</td>\n",
       "      <td>1</td>\n",
       "      <td>64</td>\n",
       "      <td>52.47891</td>\n",
       "      <td>-1.90592</td>\n",
       "      <td>GBR</td>\n",
       "    </tr>\n",
       "    <tr>\n",
       "      <th>1</th>\n",
       "      <td>50</td>\n",
       "      <td>#AFRICANBAZE: Breaking news:Nigeria flag set a...</td>\n",
       "      <td>1</td>\n",
       "      <td>69</td>\n",
       "      <td>7.18810</td>\n",
       "      <td>21.09375</td>\n",
       "      <td>CAF</td>\n",
       "    </tr>\n",
       "    <tr>\n",
       "      <th>2</th>\n",
       "      <td>52</td>\n",
       "      <td>Crying out for more! Set me ablaze</td>\n",
       "      <td>0</td>\n",
       "      <td>118</td>\n",
       "      <td>39.95222</td>\n",
       "      <td>-75.16218</td>\n",
       "      <td>USA</td>\n",
       "    </tr>\n",
       "    <tr>\n",
       "      <th>3</th>\n",
       "      <td>53</td>\n",
       "      <td>On plus side LOOK AT THE SKY LAST NIGHT IT WAS...</td>\n",
       "      <td>0</td>\n",
       "      <td>127</td>\n",
       "      <td>51.50642</td>\n",
       "      <td>-0.12721</td>\n",
       "      <td>GBR</td>\n",
       "    </tr>\n",
       "    <tr>\n",
       "      <th>4</th>\n",
       "      <td>54</td>\n",
       "      <td>@PhDSquares #mufc they've built so much hype a...</td>\n",
       "      <td>0</td>\n",
       "      <td>140</td>\n",
       "      <td>-25.74587</td>\n",
       "      <td>28.18763</td>\n",
       "      <td>ZAF</td>\n",
       "    </tr>\n",
       "  </tbody>\n",
       "</table>\n",
       "</div>"
      ],
      "text/plain": [
       "   id                                               text  target  Unnamed: 0  \\\n",
       "0  48  @bbcmtd Wholesale Markets ablaze http://t.co/l...       1          64   \n",
       "1  50  #AFRICANBAZE: Breaking news:Nigeria flag set a...       1          69   \n",
       "2  52                 Crying out for more! Set me ablaze       0         118   \n",
       "3  53  On plus side LOOK AT THE SKY LAST NIGHT IT WAS...       0         127   \n",
       "4  54  @PhDSquares #mufc they've built so much hype a...       0         140   \n",
       "\n",
       "        lat       lon country  \n",
       "0  52.47891  -1.90592     GBR  \n",
       "1   7.18810  21.09375     CAF  \n",
       "2  39.95222 -75.16218     USA  \n",
       "3  51.50642  -0.12721     GBR  \n",
       "4 -25.74587  28.18763     ZAF  "
      ]
     },
     "execution_count": 9,
     "metadata": {},
     "output_type": "execute_result"
    }
   ],
   "source": [
    "df.head()"
   ]
  },
  {
   "cell_type": "code",
   "execution_count": 10,
   "metadata": {},
   "outputs": [
    {
     "name": "stderr",
     "output_type": "stream",
     "text": [
      "C:\\Users\\user\\miniconda3\\envs\\defiska\\lib\\site-packages\\seaborn\\_decorators.py:36: FutureWarning: Pass the following variable as a keyword arg: x. From version 0.12, the only valid positional argument will be `data`, and passing other arguments without an explicit keyword will result in an error or misinterpretation.\n",
      "  warnings.warn(\n"
     ]
    },
    {
     "data": {
      "image/png": "[encoded data removed]",
      "text/plain": [
       "<Figure size 720x360 with 1 Axes>"
      ]
     },
     "metadata": {
      "needs_background": "light"
     },
     "output_type": "display_data"
    }
   ],
   "source": [
    "# Target Visualization\n",
    "\n",
    "plt.subplots(figsize=(10,5))\n",
    "sns.countplot(df['target'])\n",
    "plt.xlabel('Target Label')\n",
    "plt.ylabel('Count')\n",
    "plt.title('Target Label Comparison')\n",
    "\n",
    "plt.show()"
   ]
  },
  {
   "cell_type": "markdown",
   "metadata": {},
   "source": [
    "### 2. Text Preprocessing"
   ]
  },
  {
   "cell_type": "code",
   "execution_count": 11,
   "metadata": {},
   "outputs": [],
   "source": [
    "from nltk.tokenize import word_tokenize\n",
    "from nltk.corpus import stopwords, wordnet\n",
    "from string import punctuation\n",
    "from gensim.models import Word2Vec\n",
    "\n",
    "from sklearn.feature_extraction.text import CountVectorizer, TfidfVectorizer"
   ]
  },
  {
   "cell_type": "code",
   "execution_count": 12,
   "metadata": {},
   "outputs": [],
   "source": [
    "# Stopwords Selection\n",
    "\n",
    "tfidf = TfidfVectorizer(tokenizer=word_tokenize,min_df=4)\n",
    "tfidf_matrix = tfidf.fit_transform(df['text']) "
   ]
  },
  {
   "cell_type": "code",
   "execution_count": 13,
   "metadata": {},
   "outputs": [],
   "source": [
    "df_tfidf = pd.DataFrame(tfidf_matrix.toarray(), columns=tfidf.get_feature_names())"
   ]
  },
  {
   "cell_type": "code",
   "execution_count": 14,
   "metadata": {},
   "outputs": [],
   "source": [
    "df_tfidf_top50 = pd.DataFrame(df_tfidf.sum(axis=0).sort_values(ascending=False).head(50))"
   ]
  },
  {
   "cell_type": "code",
   "execution_count": 15,
   "metadata": {},
   "outputs": [],
   "source": [
    "not_alnum = [x for x in df_tfidf.columns if x.isalnum()==False]"
   ]
  },
  {
   "cell_type": "code",
   "execution_count": 16,
   "metadata": {},
   "outputs": [
    {
     "data": {
      "text/plain": [
       "['http', 'https', 'like', 'new', 'via']"
      ]
     },
     "execution_count": 16,
     "metadata": {},
     "output_type": "execute_result"
    }
   ],
   "source": [
    "[i for i in df_tfidf_top50.index if i not in stopwords.words(\"english\") + not_alnum]"
   ]
  },
  {
   "cell_type": "code",
   "execution_count": 17,
   "metadata": {},
   "outputs": [],
   "source": [
    "added_sw = ['co','û_','amp',\"'d\", \"'ll\", \"'re\", \"'s\", \"'ve\",'``', 'could', 'might', 'must', \"n't\", 'need', 'sha', 'wo', 'would',\n",
    "            'like','new','via','got', 'na', 'ta', 'wan', '05', '1', 'calif', 'dr', 'f', 'ft', 'ok', 'p.m', 'r', 'st', 'vs', 'wash', 'z',\n",
    "           '10', '2', '2-u.s', '3', 'aug', 'corp', 'd.c', 'l.a', 'u.n', 'va', 'u.s']"
   ]
  },
  {
   "cell_type": "code",
   "execution_count": 18,
   "metadata": {},
   "outputs": [],
   "source": [
    "sw_eng = stopwords.words(\"english\") + list(punctuation) + not_alnum + added_sw"
   ]
  },
  {
   "cell_type": "markdown",
   "metadata": {},
   "source": [
    "### 3. Dataset Splitting"
   ]
  },
  {
   "cell_type": "code",
   "execution_count": 19,
   "metadata": {},
   "outputs": [],
   "source": [
    "from sklearn.model_selection import train_test_split"
   ]
  },
  {
   "cell_type": "code",
   "execution_count": 20,
   "metadata": {},
   "outputs": [
    {
     "data": {
      "text/plain": [
       "((2660,), (1140,), (2660,), (1140,))"
      ]
     },
     "execution_count": 20,
     "metadata": {},
     "output_type": "execute_result"
    }
   ],
   "source": [
    "X = df.text\n",
    "y = df.target\n",
    "\n",
    "X_train,X_test,y_train,y_test = train_test_split(X,y,test_size=0.3,random_state=42)\n",
    "X_train.shape,X_test.shape,y_train.shape,y_test.shape"
   ]
  },
  {
   "cell_type": "markdown",
   "metadata": {},
   "source": [
    "# Model Selection"
   ]
  },
  {
   "cell_type": "code",
   "execution_count": 21,
   "metadata": {},
   "outputs": [],
   "source": [
    "from sklearn.pipeline import Pipeline\n",
    "from sklearn.linear_model import LogisticRegression\n",
    "from sklearn.neighbors import KNeighborsClassifier\n",
    "from sklearn.svm import SVC\n",
    "from sklearn.ensemble import RandomForestClassifier\n",
    "from sklearn.model_selection import GridSearchCV, RandomizedSearchCV, StratifiedKFold"
   ]
  },
  {
   "cell_type": "code",
   "execution_count": 22,
   "metadata": {},
   "outputs": [],
   "source": [
    "pipeline = Pipeline([\n",
    "    ('prep',TfidfVectorizer(tokenizer=word_tokenize,stop_words=sw_eng,min_df=4)),\n",
    "    ('clf', None)\n",
    "])"
   ]
  },
  {
   "cell_type": "code",
   "execution_count": 23,
   "metadata": {},
   "outputs": [],
   "source": [
    "cv = StratifiedKFold(n_splits=3)\n",
    "search = GridSearchCV(\n",
    "    pipeline, \n",
    "    cv=cv, \n",
    "    return_train_score=False, \n",
    "    scoring=['accuracy', 'recall', 'f1'],\n",
    "    refit = 'f1',\n",
    "    param_grid={\n",
    "        'clf': [LogisticRegression(),KNeighborsClassifier(),SVC(),RandomForestClassifier()]        \n",
    "})"
   ]
  },
  {
   "cell_type": "code",
   "execution_count": 24,
   "metadata": {},
   "outputs": [
    {
     "name": "stdout",
     "output_type": "stream",
     "text": [
      "Best model: {'clf': LogisticRegression()}\n"
     ]
    },
    {
     "data": {
      "text/html": [
       "<div>\n",
       "<style scoped>\n",
       "    .dataframe tbody tr th:only-of-type {\n",
       "        vertical-align: middle;\n",
       "    }\n",
       "\n",
       "    .dataframe tbody tr th {\n",
       "        vertical-align: top;\n",
       "    }\n",
       "\n",
       "    .dataframe thead th {\n",
       "        text-align: right;\n",
       "    }\n",
       "</style>\n",
       "<table border=\"1\" class=\"dataframe\">\n",
       "  <thead>\n",
       "    <tr style=\"text-align: right;\">\n",
       "      <th></th>\n",
       "      <th>mean_fit_time</th>\n",
       "      <th>std_fit_time</th>\n",
       "      <th>mean_score_time</th>\n",
       "      <th>std_score_time</th>\n",
       "      <th>param_clf</th>\n",
       "      <th>params</th>\n",
       "      <th>split0_test_accuracy</th>\n",
       "      <th>split1_test_accuracy</th>\n",
       "      <th>split2_test_accuracy</th>\n",
       "      <th>mean_test_accuracy</th>\n",
       "      <th>...</th>\n",
       "      <th>split2_test_recall</th>\n",
       "      <th>mean_test_recall</th>\n",
       "      <th>std_test_recall</th>\n",
       "      <th>rank_test_recall</th>\n",
       "      <th>split0_test_f1</th>\n",
       "      <th>split1_test_f1</th>\n",
       "      <th>split2_test_f1</th>\n",
       "      <th>mean_test_f1</th>\n",
       "      <th>std_test_f1</th>\n",
       "      <th>rank_test_f1</th>\n",
       "    </tr>\n",
       "  </thead>\n",
       "  <tbody>\n",
       "    <tr>\n",
       "      <th>0</th>\n",
       "      <td>0.455936</td>\n",
       "      <td>0.192235</td>\n",
       "      <td>0.148027</td>\n",
       "      <td>0.005185</td>\n",
       "      <td>LogisticRegression()</td>\n",
       "      <td>{'clf': LogisticRegression()}</td>\n",
       "      <td>0.753100</td>\n",
       "      <td>0.754228</td>\n",
       "      <td>0.758465</td>\n",
       "      <td>0.755264</td>\n",
       "      <td>...</td>\n",
       "      <td>0.663366</td>\n",
       "      <td>0.661168</td>\n",
       "      <td>0.003712</td>\n",
       "      <td>1</td>\n",
       "      <td>0.710700</td>\n",
       "      <td>0.708556</td>\n",
       "      <td>0.714667</td>\n",
       "      <td>0.711308</td>\n",
       "      <td>0.002531</td>\n",
       "      <td>1</td>\n",
       "    </tr>\n",
       "    <tr>\n",
       "      <th>1</th>\n",
       "      <td>0.311906</td>\n",
       "      <td>0.003387</td>\n",
       "      <td>0.204994</td>\n",
       "      <td>0.014198</td>\n",
       "      <td>KNeighborsClassifier()</td>\n",
       "      <td>{'clf': KNeighborsClassifier()}</td>\n",
       "      <td>0.613303</td>\n",
       "      <td>0.622322</td>\n",
       "      <td>0.611738</td>\n",
       "      <td>0.615788</td>\n",
       "      <td>...</td>\n",
       "      <td>0.190594</td>\n",
       "      <td>0.200338</td>\n",
       "      <td>0.014114</td>\n",
       "      <td>4</td>\n",
       "      <td>0.309859</td>\n",
       "      <td>0.346979</td>\n",
       "      <td>0.309237</td>\n",
       "      <td>0.322025</td>\n",
       "      <td>0.017647</td>\n",
       "      <td>4</td>\n",
       "    </tr>\n",
       "    <tr>\n",
       "      <th>2</th>\n",
       "      <td>0.560941</td>\n",
       "      <td>0.032545</td>\n",
       "      <td>0.248225</td>\n",
       "      <td>0.019970</td>\n",
       "      <td>SVC()</td>\n",
       "      <td>{'clf': SVC()}</td>\n",
       "      <td>0.747463</td>\n",
       "      <td>0.764374</td>\n",
       "      <td>0.756208</td>\n",
       "      <td>0.756015</td>\n",
       "      <td>...</td>\n",
       "      <td>0.631188</td>\n",
       "      <td>0.643866</td>\n",
       "      <td>0.015600</td>\n",
       "      <td>2</td>\n",
       "      <td>0.696477</td>\n",
       "      <td>0.720214</td>\n",
       "      <td>0.702479</td>\n",
       "      <td>0.706390</td>\n",
       "      <td>0.010078</td>\n",
       "      <td>2</td>\n",
       "    </tr>\n",
       "    <tr>\n",
       "      <th>3</th>\n",
       "      <td>0.795442</td>\n",
       "      <td>0.074915</td>\n",
       "      <td>0.194028</td>\n",
       "      <td>0.019855</td>\n",
       "      <td>RandomForestClassifier()</td>\n",
       "      <td>{'clf': RandomForestClassifier()}</td>\n",
       "      <td>0.739572</td>\n",
       "      <td>0.745209</td>\n",
       "      <td>0.755079</td>\n",
       "      <td>0.746620</td>\n",
       "      <td>...</td>\n",
       "      <td>0.601485</td>\n",
       "      <td>0.610879</td>\n",
       "      <td>0.006671</td>\n",
       "      <td>3</td>\n",
       "      <td>0.683128</td>\n",
       "      <td>0.687845</td>\n",
       "      <td>0.691323</td>\n",
       "      <td>0.687432</td>\n",
       "      <td>0.003358</td>\n",
       "      <td>3</td>\n",
       "    </tr>\n",
       "  </tbody>\n",
       "</table>\n",
       "<p>4 rows × 24 columns</p>\n",
       "</div>"
      ],
      "text/plain": [
       "   mean_fit_time  std_fit_time  mean_score_time  std_score_time  \\\n",
       "0       0.455936      0.192235         0.148027        0.005185   \n",
       "1       0.311906      0.003387         0.204994        0.014198   \n",
       "2       0.560941      0.032545         0.248225        0.019970   \n",
       "3       0.795442      0.074915         0.194028        0.019855   \n",
       "\n",
       "                  param_clf                             params  \\\n",
       "0      LogisticRegression()      {'clf': LogisticRegression()}   \n",
       "1    KNeighborsClassifier()    {'clf': KNeighborsClassifier()}   \n",
       "2                     SVC()                     {'clf': SVC()}   \n",
       "3  RandomForestClassifier()  {'clf': RandomForestClassifier()}   \n",
       "\n",
       "   split0_test_accuracy  split1_test_accuracy  split2_test_accuracy  \\\n",
       "0              0.753100              0.754228              0.758465   \n",
       "1              0.613303              0.622322              0.611738   \n",
       "2              0.747463              0.764374              0.756208   \n",
       "3              0.739572              0.745209              0.755079   \n",
       "\n",
       "   mean_test_accuracy  ...  split2_test_recall  mean_test_recall  \\\n",
       "0            0.755264  ...            0.663366          0.661168   \n",
       "1            0.615788  ...            0.190594          0.200338   \n",
       "2            0.756015  ...            0.631188          0.643866   \n",
       "3            0.746620  ...            0.601485          0.610879   \n",
       "\n",
       "   std_test_recall  rank_test_recall  split0_test_f1  split1_test_f1  \\\n",
       "0         0.003712                 1        0.710700        0.708556   \n",
       "1         0.014114                 4        0.309859        0.346979   \n",
       "2         0.015600                 2        0.696477        0.720214   \n",
       "3         0.006671                 3        0.683128        0.687845   \n",
       "\n",
       "   split2_test_f1  mean_test_f1  std_test_f1  rank_test_f1  \n",
       "0        0.714667      0.711308     0.002531             1  \n",
       "1        0.309237      0.322025     0.017647             4  \n",
       "2        0.702479      0.706390     0.010078             2  \n",
       "3        0.691323      0.687432     0.003358             3  \n",
       "\n",
       "[4 rows x 24 columns]"
      ]
     },
     "execution_count": 24,
     "metadata": {},
     "output_type": "execute_result"
    }
   ],
   "source": [
    "search.fit(X_train,y_train)\n",
    "\n",
    "print('Best model:', search.best_params_)\n",
    "model_comparison = pd.DataFrame(search.cv_results_)\n",
    "model_comparison"
   ]
  },
  {
   "cell_type": "code",
   "execution_count": 25,
   "metadata": {},
   "outputs": [
    {
     "name": "stderr",
     "output_type": "stream",
     "text": [
      "C:\\Users\\user\\miniconda3\\envs\\defiska\\lib\\site-packages\\seaborn\\_decorators.py:36: FutureWarning: Pass the following variables as keyword args: x, y. From version 0.12, the only valid positional argument will be `data`, and passing other arguments without an explicit keyword will result in an error or misinterpretation.\n",
      "  warnings.warn(\n"
     ]
    },
    {
     "data": {
      "image/png": "[encoded data removed]",
      "text/plain": [
       "<Figure size 720x360 with 1 Axes>"
      ]
     },
     "metadata": {
      "needs_background": "light"
     },
     "output_type": "display_data"
    }
   ],
   "source": [
    "model_comparison['model'] = ['Logistic Regression','KNN','SVM','Random Forest']\n",
    "\n",
    "fig, ax = plt.subplots(figsize=(10,5))\n",
    "ax = sns.barplot('model', 'mean_test_accuracy', data=model_comparison, capsize=.05, palette='Blues', ci=None)\n",
    "ax.set_xlabel(\"Models\",fontsize=12)\n",
    "ax.set_ylabel(\"Accuracy (%)\",fontsize=12)\n",
    "ax.tick_params(labelsize=12)\n",
    "ax.axes.set_title(\"Accuracy Between Models\", fontsize=12)\n",
    "\n",
    "plt.show()"
   ]
  },
  {
   "cell_type": "markdown",
   "metadata": {},
   "source": [
    "# Hyperparameter Tuning"
   ]
  },
  {
   "cell_type": "code",
   "execution_count": 26,
   "metadata": {},
   "outputs": [],
   "source": [
    "pipeline = Pipeline([\n",
    "    ('prep',TfidfVectorizer(tokenizer=word_tokenize,stop_words=sw_eng,min_df=4)),\n",
    "    ('algo',LogisticRegression(solver='lbfgs',n_jobs=-1,random_state=42))\n",
    "])"
   ]
  },
  {
   "cell_type": "code",
   "execution_count": 27,
   "metadata": {},
   "outputs": [],
   "source": [
    "param_logreg = {\n",
    "    'algo__fit_intercept':[True],\n",
    "    'algo__C':np.linspace(0.3,0.5),\n",
    "}"
   ]
  },
  {
   "cell_type": "code",
   "execution_count": 28,
   "metadata": {},
   "outputs": [
    {
     "name": "stdout",
     "output_type": "stream",
     "text": [
      "Fitting 3 folds for each of 50 candidates, totalling 150 fits\n"
     ]
    },
    {
     "name": "stderr",
     "output_type": "stream",
     "text": [
      "[Parallel(n_jobs=-1)]: Using backend LokyBackend with 8 concurrent workers.\n",
      "[Parallel(n_jobs=-1)]: Done  34 tasks      | elapsed:    8.9s\n",
      "[Parallel(n_jobs=-1)]: Done 150 out of 150 | elapsed:   29.2s finished\n"
     ]
    },
    {
     "name": "stdout",
     "output_type": "stream",
     "text": [
      "{'algo__fit_intercept': True, 'algo__C': 0.4387755102040816}\n",
      "Train data accuracy score:  0.837218045112782\n",
      "Test data accuracy score:  0.7956140350877193\n"
     ]
    }
   ],
   "source": [
    "cv = StratifiedKFold(n_splits=3)\n",
    "model_logreg = RandomizedSearchCV(pipeline,param_logreg,cv=cv,n_iter=50,n_jobs=-1,verbose=1)\n",
    "model_logreg.fit(X_train,y_train)\n",
    "\n",
    "print(model_logreg.best_params_)\n",
    "print(\"Train data accuracy score: \", model_logreg.score(X_train,y_train))\n",
    "print(\"Test data accuracy score: \", model_logreg.score(X_test,y_test))"
   ]
  },
  {
   "cell_type": "markdown",
   "metadata": {},
   "source": [
    "The construction of a predictive model with Neural Network is also carried out in the Disaster Tweets with Neural Network.ipynb file and then the best model is selected."
   ]
  },
  {
   "cell_type": "markdown",
   "metadata": {},
   "source": [
    "# Evaluation"
   ]
  },
  {
   "cell_type": "code",
   "execution_count": 29,
   "metadata": {},
   "outputs": [],
   "source": [
    "from sklearn.metrics import plot_confusion_matrix, classification_report, roc_auc_score, roc_curve"
   ]
  },
  {
   "cell_type": "code",
   "execution_count": 30,
   "metadata": {},
   "outputs": [
    {
     "data": {
      "text/plain": [
       "Text(0.5, 1.0, 'Confusion Matrix (Normalized)')"
      ]
     },
     "execution_count": 30,
     "metadata": {},
     "output_type": "execute_result"
    },
    {
     "data": {
      "image/png": "[encoded data removed]",
      "text/plain": [
       "<Figure size 720x360 with 2 Axes>"
      ]
     },
     "metadata": {
      "needs_background": "light"
     },
     "output_type": "display_data"
    }
   ],
   "source": [
    "# Confusion Matrix\n",
    "\n",
    "fig,ax = plt.subplots(figsize=(10,5))\n",
    "plot_confusion_matrix(model_logreg,X_test,y_test,cmap=plt.cm.Blues,normalize='true',ax=ax)\n",
    "ax.set_xlabel('Predicted')\n",
    "ax.set_ylabel('Actual')\n",
    "ax.set_title('Confusion Matrix (Normalized)')"
   ]
  },
  {
   "cell_type": "code",
   "execution_count": 31,
   "metadata": {},
   "outputs": [
    {
     "name": "stdout",
     "output_type": "stream",
     "text": [
      "              precision    recall  f1-score   support\n",
      "\n",
      "           0       0.78      0.89      0.83       632\n",
      "           1       0.83      0.68      0.75       508\n",
      "\n",
      "    accuracy                           0.80      1140\n",
      "   macro avg       0.80      0.78      0.79      1140\n",
      "weighted avg       0.80      0.80      0.79      1140\n",
      "\n"
     ]
    }
   ],
   "source": [
    "# Classification Report\n",
    "\n",
    "y_pred = model_logreg.predict(X_test)\n",
    "print(classification_report(y_test,y_pred))"
   ]
  },
  {
   "cell_type": "code",
   "execution_count": 32,
   "metadata": {},
   "outputs": [
    {
     "name": "stdout",
     "output_type": "stream",
     "text": [
      "ROC-AUC score is 0.7845734077544106\n"
     ]
    }
   ],
   "source": [
    "# ROC-AUC Score\n",
    "\n",
    "roc_auc = roc_auc_score(y_test, y_pred)\n",
    "print(\"ROC-AUC score is\",roc_auc)"
   ]
  },
  {
   "cell_type": "code",
   "execution_count": 33,
   "metadata": {},
   "outputs": [],
   "source": [
    "y_pred_proba = model_logreg.predict_proba(X_test)\n",
    "a = [i[1] for i in y_pred_proba]\n",
    "fpr,tpr,_ = roc_curve(y_test, a)"
   ]
  },
  {
   "cell_type": "code",
   "execution_count": 34,
   "metadata": {},
   "outputs": [
    {
     "data": {
      "image/png": "[encoded data removed]",
      "text/plain": [
       "<Figure size 504x504 with 1 Axes>"
      ]
     },
     "metadata": {
      "needs_background": "light"
     },
     "output_type": "display_data"
    }
   ],
   "source": [
    "fig = plt.subplots(figsize=(7,7))\n",
    "\n",
    "plt.plot([0, 1],[0, 1],color='navy',linestyle='--')\n",
    "plt.plot(fpr,tpr,color='orange',label='ROC curve (AUC = {})'.format(round(roc_auc,3)))\n",
    "plt.xlabel('False Positive Rate')\n",
    "plt.ylabel('True Positive Rate')\n",
    "plt.legend(loc='lower right')\n",
    "plt.title('ROC Curve')\n",
    "\n",
    "plt.show()"
   ]
  },
  {
   "cell_type": "code",
   "execution_count": 35,
   "metadata": {},
   "outputs": [],
   "source": [
    "# Save Prediction\n",
    "\n",
    "X_test = pd.DataFrame(X_test)\n",
    "X_test['target_pred'] = y_pred\n",
    "X_test.to_csv('File CSV/test_data.csv')"
   ]
  }
 ],
 "metadata": {
  "kernelspec": {
   "display_name": "Python [conda env:defiska]",
   "language": "python",
   "name": "conda-env-defiska-py"
  },
  "language_info": {
   "codemirror_mode": {
    "name": "ipython",
    "version": 3
   },
   "file_extension": ".py",
   "mimetype": "text/x-python",
   "name": "python",
   "nbconvert_exporter": "python",
   "pygments_lexer": "ipython3",
   "version": "3.8.5"
  }
 },
 "nbformat": 4,
 "nbformat_minor": 4
}
